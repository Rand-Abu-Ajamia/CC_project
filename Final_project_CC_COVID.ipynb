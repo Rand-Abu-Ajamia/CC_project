{
 "cells": [
  {
   "cell_type": "markdown",
   "id": "33172592",
   "metadata": {},
   "source": [
    "# Background \n",
    "This notebooks aims to study and visualise global views of climate change in light of COVID-19 pandemic, these views are scraped from twitter to capture the public's reaction through 2021 with the focus on the hashtags #climatechange and #COVID"
   ]
  },
  {
   "cell_type": "markdown",
   "id": "197b4649",
   "metadata": {},
   "source": [
    "# Importing relevant libraries "
   ]
  },
  {
   "cell_type": "code",
   "execution_count": 4,
   "id": "acb60e66",
   "metadata": {},
   "outputs": [],
   "source": [
    "#Importing Libraries\n",
    "\n",
    "#Twitter Scraping and Data\n",
    "from tqdm.auto import tqdm\n",
    "import snscrape.modules.twitter as sntwitter\n",
    "from snscrape.base import ScraperException\n",
    "import json\n",
    "import nltk\n",
    "import pandas as pd\n",
    "import numpy as np\n",
    "import mysql.connector\n",
    "\n",
    "#Sentiment Analysis\n",
    "from vaderSentiment.vaderSentiment import SentimentIntensityAnalyzer\n",
    "from nltk.corpus import stopwords\n",
    "\n",
    "\n",
    "#Data Visualisation\n",
    "from wordcloud import WordCloud\n",
    "from collections import Counter\n",
    "from PIL import Image\n",
    "import re\n",
    "import string"
   ]
  },
  {
   "cell_type": "markdown",
   "id": "652b8cc1",
   "metadata": {},
   "source": [
    "# Scraping tweets"
   ]
  },
  {
   "cell_type": "code",
   "execution_count": 6,
   "id": "59093aac",
   "metadata": {},
   "outputs": [
    {
     "name": "stdout",
     "output_type": "stream",
     "text": [
      "CPU times: user 5 µs, sys: 1e+03 ns, total: 6 µs\n",
      "Wall time: 12.2 µs\n"
     ]
    },
    {
     "name": "stderr",
     "output_type": "stream",
     "text": [
      "0it [00:01, ?it/s]\n"
     ]
    }
   ],
   "source": [
    "#building a function to scrap twitter during specific time period and with #climatechange as keyword and only english tweets\n",
    "%%time\n",
    "\n",
    "cc_tweets = []\n",
    "for i, tweet in tqdm(enumerate(sntwitter.TwitterSearchScraper('(#climatechange) lan:eng since:2021-01-01 until:2021-12-09').get_items())):\n",
    "    try:\n",
    "        cc_tweets.append([tweet.date,\n",
    "                          tweet.id,\n",
    "                          tweet.content,\n",
    "                          tweet.replyCount,\n",
    "                          tweet.retweetCount,\n",
    "                          tweet.likeCount,\n",
    "                          tweet.coordinates])\n",
    "    except ScraperException:\n",
    "        print('Scraper Exception... continuing')\n",
    "        continue"
   ]
  },
  {
   "cell_type": "code",
   "execution_count": 129,
   "id": "d3066f4a",
   "metadata": {},
   "outputs": [],
   "source": [
    "# Creating a dataframe from the tweets list above\n",
    "cc_tweets_df = pd.DataFrame(cc_tweets, columns=['date', 'tweet_id', 'text', 'replies', 'retweets', 'likes', 'place'])"
   ]
  },
  {
   "cell_type": "code",
   "execution_count": 130,
   "id": "0af2595f",
   "metadata": {},
   "outputs": [
    {
     "data": {
      "text/html": [
       "<div>\n",
       "<style scoped>\n",
       "    .dataframe tbody tr th:only-of-type {\n",
       "        vertical-align: middle;\n",
       "    }\n",
       "\n",
       "    .dataframe tbody tr th {\n",
       "        vertical-align: top;\n",
       "    }\n",
       "\n",
       "    .dataframe thead th {\n",
       "        text-align: right;\n",
       "    }\n",
       "</style>\n",
       "<table border=\"1\" class=\"dataframe\">\n",
       "  <thead>\n",
       "    <tr style=\"text-align: right;\">\n",
       "      <th></th>\n",
       "      <th>date</th>\n",
       "      <th>tweet_id</th>\n",
       "      <th>text</th>\n",
       "      <th>replies</th>\n",
       "      <th>retweets</th>\n",
       "      <th>likes</th>\n",
       "      <th>place</th>\n",
       "    </tr>\n",
       "  </thead>\n",
       "  <tbody>\n",
       "    <tr>\n",
       "      <th>0</th>\n",
       "      <td>2021-12-08 23:59:56+00:00</td>\n",
       "      <td>1468732106507534336</td>\n",
       "      <td>Is Meat Really that Bad? [Yes.] https://t.co/A...</td>\n",
       "      <td>0</td>\n",
       "      <td>1</td>\n",
       "      <td>0</td>\n",
       "      <td>None</td>\n",
       "    </tr>\n",
       "    <tr>\n",
       "      <th>1</th>\n",
       "      <td>2021-12-08 23:59:01+00:00</td>\n",
       "      <td>1468731877284478977</td>\n",
       "      <td>@samanthamaiden @GladysB Not surprising though...</td>\n",
       "      <td>1</td>\n",
       "      <td>9</td>\n",
       "      <td>11</td>\n",
       "      <td>None</td>\n",
       "    </tr>\n",
       "    <tr>\n",
       "      <th>2</th>\n",
       "      <td>2021-12-08 23:58:00+00:00</td>\n",
       "      <td>1468731618428960771</td>\n",
       "      <td>@TheRACP climate change report, co-authored by...</td>\n",
       "      <td>0</td>\n",
       "      <td>4</td>\n",
       "      <td>4</td>\n",
       "      <td>None</td>\n",
       "    </tr>\n",
       "    <tr>\n",
       "      <th>3</th>\n",
       "      <td>2021-12-08 23:57:34+00:00</td>\n",
       "      <td>1468731508710064128</td>\n",
       "      <td>The Paris Agreement: knowledge management and ...</td>\n",
       "      <td>0</td>\n",
       "      <td>0</td>\n",
       "      <td>0</td>\n",
       "      <td>None</td>\n",
       "    </tr>\n",
       "    <tr>\n",
       "      <th>4</th>\n",
       "      <td>2021-12-08 23:57:28+00:00</td>\n",
       "      <td>1468731487121985543</td>\n",
       "      <td>The Paris Agreement: knowledge management and ...</td>\n",
       "      <td>0</td>\n",
       "      <td>0</td>\n",
       "      <td>0</td>\n",
       "      <td>None</td>\n",
       "    </tr>\n",
       "    <tr>\n",
       "      <th>...</th>\n",
       "      <td>...</td>\n",
       "      <td>...</td>\n",
       "      <td>...</td>\n",
       "      <td>...</td>\n",
       "      <td>...</td>\n",
       "      <td>...</td>\n",
       "      <td>...</td>\n",
       "    </tr>\n",
       "    <tr>\n",
       "      <th>874408</th>\n",
       "      <td>2021-01-01 00:01:03+00:00</td>\n",
       "      <td>1344795736437829633</td>\n",
       "      <td>Jax Brewery (The Katrina Portraits 3)\\nhttps:/...</td>\n",
       "      <td>0</td>\n",
       "      <td>3</td>\n",
       "      <td>2</td>\n",
       "      <td>None</td>\n",
       "    </tr>\n",
       "    <tr>\n",
       "      <th>874409</th>\n",
       "      <td>2021-01-01 00:00:43+00:00</td>\n",
       "      <td>1344795654728654851</td>\n",
       "      <td>Carriageway (The Katrina Portraits 4)\\nhttps:/...</td>\n",
       "      <td>0</td>\n",
       "      <td>2</td>\n",
       "      <td>3</td>\n",
       "      <td>None</td>\n",
       "    </tr>\n",
       "    <tr>\n",
       "      <th>874410</th>\n",
       "      <td>2021-01-01 00:00:22+00:00</td>\n",
       "      <td>1344795563359932417</td>\n",
       "      <td>Marigny Triangle (The Katrina Portraits 5)\\nht...</td>\n",
       "      <td>0</td>\n",
       "      <td>1</td>\n",
       "      <td>1</td>\n",
       "      <td>None</td>\n",
       "    </tr>\n",
       "    <tr>\n",
       "      <th>874411</th>\n",
       "      <td>2021-01-01 00:00:03+00:00</td>\n",
       "      <td>1344795486021152769</td>\n",
       "      <td>If you’re thinking of making a “green” New Yea...</td>\n",
       "      <td>0</td>\n",
       "      <td>0</td>\n",
       "      <td>1</td>\n",
       "      <td>None</td>\n",
       "    </tr>\n",
       "    <tr>\n",
       "      <th>874412</th>\n",
       "      <td>2021-01-01 00:00:02+00:00</td>\n",
       "      <td>1344795482099478529</td>\n",
       "      <td>The Corridor potects the North Woods by removi...</td>\n",
       "      <td>0</td>\n",
       "      <td>1</td>\n",
       "      <td>2</td>\n",
       "      <td>None</td>\n",
       "    </tr>\n",
       "  </tbody>\n",
       "</table>\n",
       "<p>874413 rows × 7 columns</p>\n",
       "</div>"
      ],
      "text/plain": [
       "                            date             tweet_id  \\\n",
       "0      2021-12-08 23:59:56+00:00  1468732106507534336   \n",
       "1      2021-12-08 23:59:01+00:00  1468731877284478977   \n",
       "2      2021-12-08 23:58:00+00:00  1468731618428960771   \n",
       "3      2021-12-08 23:57:34+00:00  1468731508710064128   \n",
       "4      2021-12-08 23:57:28+00:00  1468731487121985543   \n",
       "...                          ...                  ...   \n",
       "874408 2021-01-01 00:01:03+00:00  1344795736437829633   \n",
       "874409 2021-01-01 00:00:43+00:00  1344795654728654851   \n",
       "874410 2021-01-01 00:00:22+00:00  1344795563359932417   \n",
       "874411 2021-01-01 00:00:03+00:00  1344795486021152769   \n",
       "874412 2021-01-01 00:00:02+00:00  1344795482099478529   \n",
       "\n",
       "                                                     text  replies  retweets  \\\n",
       "0       Is Meat Really that Bad? [Yes.] https://t.co/A...        0         1   \n",
       "1       @samanthamaiden @GladysB Not surprising though...        1         9   \n",
       "2       @TheRACP climate change report, co-authored by...        0         4   \n",
       "3       The Paris Agreement: knowledge management and ...        0         0   \n",
       "4       The Paris Agreement: knowledge management and ...        0         0   \n",
       "...                                                   ...      ...       ...   \n",
       "874408  Jax Brewery (The Katrina Portraits 3)\\nhttps:/...        0         3   \n",
       "874409  Carriageway (The Katrina Portraits 4)\\nhttps:/...        0         2   \n",
       "874410  Marigny Triangle (The Katrina Portraits 5)\\nht...        0         1   \n",
       "874411  If you’re thinking of making a “green” New Yea...        0         0   \n",
       "874412  The Corridor potects the North Woods by removi...        0         1   \n",
       "\n",
       "        likes place  \n",
       "0           0  None  \n",
       "1          11  None  \n",
       "2           4  None  \n",
       "3           0  None  \n",
       "4           0  None  \n",
       "...       ...   ...  \n",
       "874408      2  None  \n",
       "874409      3  None  \n",
       "874410      1  None  \n",
       "874411      1  None  \n",
       "874412      2  None  \n",
       "\n",
       "[874413 rows x 7 columns]"
      ]
     },
     "execution_count": 130,
     "metadata": {},
     "output_type": "execute_result"
    }
   ],
   "source": [
    "cc_tweets_df"
   ]
  },
  {
   "cell_type": "code",
   "execution_count": 131,
   "id": "3f65fd93",
   "metadata": {},
   "outputs": [],
   "source": [
    "#storing dataframe of scraped tweets in a csv file \n",
    "cc_tweets_df.to_csv(\"climatechange_eng.csv\", index=False)"
   ]
  },
  {
   "cell_type": "code",
   "execution_count": null,
   "id": "dac2a11a",
   "metadata": {},
   "outputs": [],
   "source": [
    "#check data types \n",
    "cc_tweets_df.dtypes"
   ]
  },
  {
   "cell_type": "code",
   "execution_count": null,
   "id": "4ba25217",
   "metadata": {},
   "outputs": [],
   "source": []
  },
  {
   "cell_type": "code",
   "execution_count": null,
   "id": "76345459",
   "metadata": {},
   "outputs": [],
   "source": [
    "#change date column tp type date\n",
    "def date_type(df):\n",
    "    df['date']=pd.to_datetime (df['date'], errors='coerce')\n",
    "    return df"
   ]
  },
  {
   "cell_type": "code",
   "execution_count": 5,
   "id": "18845d38",
   "metadata": {},
   "outputs": [
    {
     "name": "stdout",
     "output_type": "stream",
     "text": [
      "CPU times: user 5 µs, sys: 1 µs, total: 6 µs\n",
      "Wall time: 16.2 µs\n"
     ]
    },
    {
     "name": "stderr",
     "output_type": "stream",
     "text": [
      "598303it [6:00:02, 27.70it/s]\n"
     ]
    },
    {
     "ename": "ScraperException",
     "evalue": "Unable to find guest token",
     "output_type": "error",
     "traceback": [
      "\u001b[0;31m---------------------------------------------------------------------------\u001b[0m",
      "\u001b[0;31mScraperException\u001b[0m                          Traceback (most recent call last)",
      "\u001b[0;32m/var/folders/zg/6052zdgj2vs5d59k44zmww6m0000gn/T/ipykernel_2527/762847620.py\u001b[0m in \u001b[0;36m<module>\u001b[0;34m\u001b[0m\n\u001b[1;32m      3\u001b[0m \u001b[0;34m\u001b[0m\u001b[0m\n\u001b[1;32m      4\u001b[0m \u001b[0mcovid_tweets\u001b[0m \u001b[0;34m=\u001b[0m \u001b[0;34m[\u001b[0m\u001b[0;34m]\u001b[0m\u001b[0;34m\u001b[0m\u001b[0;34m\u001b[0m\u001b[0m\n\u001b[0;32m----> 5\u001b[0;31m \u001b[0;32mfor\u001b[0m \u001b[0mi\u001b[0m\u001b[0;34m,\u001b[0m \u001b[0mtweet\u001b[0m \u001b[0;32min\u001b[0m \u001b[0mtqdm\u001b[0m\u001b[0;34m(\u001b[0m\u001b[0menumerate\u001b[0m\u001b[0;34m(\u001b[0m\u001b[0msntwitter\u001b[0m\u001b[0;34m.\u001b[0m\u001b[0mTwitterSearchScraper\u001b[0m\u001b[0;34m(\u001b[0m\u001b[0;34m'(#covid OR #covid-19) lang:en since:2021-01-01 until:2021-12-09'\u001b[0m\u001b[0;34m)\u001b[0m\u001b[0;34m.\u001b[0m\u001b[0mget_items\u001b[0m\u001b[0;34m(\u001b[0m\u001b[0;34m)\u001b[0m\u001b[0;34m)\u001b[0m\u001b[0;34m)\u001b[0m\u001b[0;34m:\u001b[0m\u001b[0;34m\u001b[0m\u001b[0;34m\u001b[0m\u001b[0m\n\u001b[0m\u001b[1;32m      6\u001b[0m     \u001b[0;32mtry\u001b[0m\u001b[0;34m:\u001b[0m\u001b[0;34m\u001b[0m\u001b[0;34m\u001b[0m\u001b[0m\n\u001b[1;32m      7\u001b[0m         covid_tweets.append([tweet.date,\n",
      "\u001b[0;32m/opt/anaconda3/envs/DA_env/lib/python3.8/site-packages/tqdm/std.py\u001b[0m in \u001b[0;36m__iter__\u001b[0;34m(self)\u001b[0m\n\u001b[1;32m   1178\u001b[0m \u001b[0;34m\u001b[0m\u001b[0m\n\u001b[1;32m   1179\u001b[0m         \u001b[0;32mtry\u001b[0m\u001b[0;34m:\u001b[0m\u001b[0;34m\u001b[0m\u001b[0;34m\u001b[0m\u001b[0m\n\u001b[0;32m-> 1180\u001b[0;31m             \u001b[0;32mfor\u001b[0m \u001b[0mobj\u001b[0m \u001b[0;32min\u001b[0m \u001b[0miterable\u001b[0m\u001b[0;34m:\u001b[0m\u001b[0;34m\u001b[0m\u001b[0;34m\u001b[0m\u001b[0m\n\u001b[0m\u001b[1;32m   1181\u001b[0m                 \u001b[0;32myield\u001b[0m \u001b[0mobj\u001b[0m\u001b[0;34m\u001b[0m\u001b[0;34m\u001b[0m\u001b[0m\n\u001b[1;32m   1182\u001b[0m                 \u001b[0;31m# Update and possibly print the progressbar.\u001b[0m\u001b[0;34m\u001b[0m\u001b[0;34m\u001b[0m\u001b[0;34m\u001b[0m\u001b[0m\n",
      "\u001b[0;32m/opt/anaconda3/envs/DA_env/lib/python3.8/site-packages/snscrape/modules/twitter.py\u001b[0m in \u001b[0;36mget_items\u001b[0;34m(self)\u001b[0m\n\u001b[1;32m    554\u001b[0m                         \u001b[0;32mdel\u001b[0m \u001b[0mpaginationParams\u001b[0m\u001b[0;34m[\u001b[0m\u001b[0;34m'tweet_search_mode'\u001b[0m\u001b[0;34m]\u001b[0m\u001b[0;34m\u001b[0m\u001b[0;34m\u001b[0m\u001b[0m\n\u001b[1;32m    555\u001b[0m \u001b[0;34m\u001b[0m\u001b[0m\n\u001b[0;32m--> 556\u001b[0;31m                 \u001b[0;32mfor\u001b[0m \u001b[0mobj\u001b[0m \u001b[0;32min\u001b[0m \u001b[0mself\u001b[0m\u001b[0;34m.\u001b[0m\u001b[0m_iter_api_data\u001b[0m\u001b[0;34m(\u001b[0m\u001b[0;34m'https://api.twitter.com/2/search/adaptive.json'\u001b[0m\u001b[0;34m,\u001b[0m \u001b[0mparams\u001b[0m\u001b[0;34m,\u001b[0m \u001b[0mpaginationParams\u001b[0m\u001b[0;34m,\u001b[0m \u001b[0mcursor\u001b[0m \u001b[0;34m=\u001b[0m \u001b[0mself\u001b[0m\u001b[0;34m.\u001b[0m\u001b[0m_cursor\u001b[0m\u001b[0;34m)\u001b[0m\u001b[0;34m:\u001b[0m\u001b[0;34m\u001b[0m\u001b[0;34m\u001b[0m\u001b[0m\n\u001b[0m\u001b[1;32m    557\u001b[0m                         \u001b[0;32myield\u001b[0m \u001b[0;32mfrom\u001b[0m \u001b[0mself\u001b[0m\u001b[0;34m.\u001b[0m\u001b[0m_instructions_to_tweets\u001b[0m\u001b[0;34m(\u001b[0m\u001b[0mobj\u001b[0m\u001b[0;34m)\u001b[0m\u001b[0;34m\u001b[0m\u001b[0;34m\u001b[0m\u001b[0m\n\u001b[1;32m    558\u001b[0m \u001b[0;34m\u001b[0m\u001b[0m\n",
      "\u001b[0;32m/opt/anaconda3/envs/DA_env/lib/python3.8/site-packages/snscrape/modules/twitter.py\u001b[0m in \u001b[0;36m_iter_api_data\u001b[0;34m(self, endpoint, params, paginationParams, cursor, direction)\u001b[0m\n\u001b[1;32m    248\u001b[0m                 \u001b[0;32mwhile\u001b[0m \u001b[0;32mTrue\u001b[0m\u001b[0;34m:\u001b[0m\u001b[0;34m\u001b[0m\u001b[0;34m\u001b[0m\u001b[0m\n\u001b[1;32m    249\u001b[0m                         \u001b[0mlogger\u001b[0m\u001b[0;34m.\u001b[0m\u001b[0minfo\u001b[0m\u001b[0;34m(\u001b[0m\u001b[0;34mf'Retrieving scroll page {cursor}'\u001b[0m\u001b[0;34m)\u001b[0m\u001b[0;34m\u001b[0m\u001b[0;34m\u001b[0m\u001b[0m\n\u001b[0;32m--> 250\u001b[0;31m                         \u001b[0mobj\u001b[0m \u001b[0;34m=\u001b[0m \u001b[0mself\u001b[0m\u001b[0;34m.\u001b[0m\u001b[0m_get_api_data\u001b[0m\u001b[0;34m(\u001b[0m\u001b[0mendpoint\u001b[0m\u001b[0;34m,\u001b[0m \u001b[0mreqParams\u001b[0m\u001b[0;34m)\u001b[0m\u001b[0;34m\u001b[0m\u001b[0;34m\u001b[0m\u001b[0m\n\u001b[0m\u001b[1;32m    251\u001b[0m                         \u001b[0;32myield\u001b[0m \u001b[0mobj\u001b[0m\u001b[0;34m\u001b[0m\u001b[0;34m\u001b[0m\u001b[0m\n\u001b[1;32m    252\u001b[0m \u001b[0;34m\u001b[0m\u001b[0m\n",
      "\u001b[0;32m/opt/anaconda3/envs/DA_env/lib/python3.8/site-packages/snscrape/modules/twitter.py\u001b[0m in \u001b[0;36m_get_api_data\u001b[0;34m(self, endpoint, params)\u001b[0m\n\u001b[1;32m    218\u001b[0m         \u001b[0;32mdef\u001b[0m \u001b[0m_get_api_data\u001b[0m\u001b[0;34m(\u001b[0m\u001b[0mself\u001b[0m\u001b[0;34m,\u001b[0m \u001b[0mendpoint\u001b[0m\u001b[0;34m,\u001b[0m \u001b[0mparams\u001b[0m\u001b[0;34m)\u001b[0m\u001b[0;34m:\u001b[0m\u001b[0;34m\u001b[0m\u001b[0;34m\u001b[0m\u001b[0m\n\u001b[1;32m    219\u001b[0m                 \u001b[0mself\u001b[0m\u001b[0;34m.\u001b[0m\u001b[0m_ensure_guest_token\u001b[0m\u001b[0;34m(\u001b[0m\u001b[0;34m)\u001b[0m\u001b[0;34m\u001b[0m\u001b[0;34m\u001b[0m\u001b[0m\n\u001b[0;32m--> 220\u001b[0;31m                 \u001b[0mr\u001b[0m \u001b[0;34m=\u001b[0m \u001b[0mself\u001b[0m\u001b[0;34m.\u001b[0m\u001b[0m_get\u001b[0m\u001b[0;34m(\u001b[0m\u001b[0mendpoint\u001b[0m\u001b[0;34m,\u001b[0m \u001b[0mparams\u001b[0m \u001b[0;34m=\u001b[0m \u001b[0mparams\u001b[0m\u001b[0;34m,\u001b[0m \u001b[0mheaders\u001b[0m \u001b[0;34m=\u001b[0m \u001b[0mself\u001b[0m\u001b[0;34m.\u001b[0m\u001b[0m_apiHeaders\u001b[0m\u001b[0;34m,\u001b[0m \u001b[0mresponseOkCallback\u001b[0m \u001b[0;34m=\u001b[0m \u001b[0mself\u001b[0m\u001b[0;34m.\u001b[0m\u001b[0m_check_api_response\u001b[0m\u001b[0;34m)\u001b[0m\u001b[0;34m\u001b[0m\u001b[0;34m\u001b[0m\u001b[0m\n\u001b[0m\u001b[1;32m    221\u001b[0m                 \u001b[0;32mtry\u001b[0m\u001b[0;34m:\u001b[0m\u001b[0;34m\u001b[0m\u001b[0;34m\u001b[0m\u001b[0m\n\u001b[1;32m    222\u001b[0m                         \u001b[0mobj\u001b[0m \u001b[0;34m=\u001b[0m \u001b[0mr\u001b[0m\u001b[0;34m.\u001b[0m\u001b[0mjson\u001b[0m\u001b[0;34m(\u001b[0m\u001b[0;34m)\u001b[0m\u001b[0;34m\u001b[0m\u001b[0;34m\u001b[0m\u001b[0m\n",
      "\u001b[0;32m/opt/anaconda3/envs/DA_env/lib/python3.8/site-packages/snscrape/base.py\u001b[0m in \u001b[0;36m_get\u001b[0;34m(self, *args, **kwargs)\u001b[0m\n\u001b[1;32m    202\u001b[0m \u001b[0;34m\u001b[0m\u001b[0m\n\u001b[1;32m    203\u001b[0m         \u001b[0;32mdef\u001b[0m \u001b[0m_get\u001b[0m\u001b[0;34m(\u001b[0m\u001b[0mself\u001b[0m\u001b[0;34m,\u001b[0m \u001b[0;34m*\u001b[0m\u001b[0margs\u001b[0m\u001b[0;34m,\u001b[0m \u001b[0;34m**\u001b[0m\u001b[0mkwargs\u001b[0m\u001b[0;34m)\u001b[0m\u001b[0;34m:\u001b[0m\u001b[0;34m\u001b[0m\u001b[0;34m\u001b[0m\u001b[0m\n\u001b[0;32m--> 204\u001b[0;31m                 \u001b[0;32mreturn\u001b[0m \u001b[0mself\u001b[0m\u001b[0;34m.\u001b[0m\u001b[0m_request\u001b[0m\u001b[0;34m(\u001b[0m\u001b[0;34m'GET'\u001b[0m\u001b[0;34m,\u001b[0m \u001b[0;34m*\u001b[0m\u001b[0margs\u001b[0m\u001b[0;34m,\u001b[0m \u001b[0;34m**\u001b[0m\u001b[0mkwargs\u001b[0m\u001b[0;34m)\u001b[0m\u001b[0;34m\u001b[0m\u001b[0;34m\u001b[0m\u001b[0m\n\u001b[0m\u001b[1;32m    205\u001b[0m \u001b[0;34m\u001b[0m\u001b[0m\n\u001b[1;32m    206\u001b[0m         \u001b[0;32mdef\u001b[0m \u001b[0m_post\u001b[0m\u001b[0;34m(\u001b[0m\u001b[0mself\u001b[0m\u001b[0;34m,\u001b[0m \u001b[0;34m*\u001b[0m\u001b[0margs\u001b[0m\u001b[0;34m,\u001b[0m \u001b[0;34m**\u001b[0m\u001b[0mkwargs\u001b[0m\u001b[0;34m)\u001b[0m\u001b[0;34m:\u001b[0m\u001b[0;34m\u001b[0m\u001b[0;34m\u001b[0m\u001b[0m\n",
      "\u001b[0;32m/opt/anaconda3/envs/DA_env/lib/python3.8/site-packages/snscrape/base.py\u001b[0m in \u001b[0;36m_request\u001b[0;34m(self, method, url, params, data, headers, timeout, responseOkCallback, allowRedirects)\u001b[0m\n\u001b[1;32m    175\u001b[0m                                                 \u001b[0mlogger\u001b[0m\u001b[0;34m.\u001b[0m\u001b[0mdebug\u001b[0m\u001b[0;34m(\u001b[0m\u001b[0;34mf'... request {i}: {redirect.request.url}: {r.status_code} (Location: {r.headers.get(\"Location\")})'\u001b[0m\u001b[0;34m)\u001b[0m\u001b[0;34m\u001b[0m\u001b[0;34m\u001b[0m\u001b[0m\n\u001b[1;32m    176\u001b[0m                                 \u001b[0;32mif\u001b[0m \u001b[0mresponseOkCallback\u001b[0m \u001b[0;32mis\u001b[0m \u001b[0;32mnot\u001b[0m \u001b[0;32mNone\u001b[0m\u001b[0;34m:\u001b[0m\u001b[0;34m\u001b[0m\u001b[0;34m\u001b[0m\u001b[0m\n\u001b[0;32m--> 177\u001b[0;31m                                         \u001b[0msuccess\u001b[0m\u001b[0;34m,\u001b[0m \u001b[0mmsg\u001b[0m \u001b[0;34m=\u001b[0m \u001b[0mresponseOkCallback\u001b[0m\u001b[0;34m(\u001b[0m\u001b[0mr\u001b[0m\u001b[0;34m)\u001b[0m\u001b[0;34m\u001b[0m\u001b[0;34m\u001b[0m\u001b[0m\n\u001b[0m\u001b[1;32m    178\u001b[0m                                 \u001b[0;32melse\u001b[0m\u001b[0;34m:\u001b[0m\u001b[0;34m\u001b[0m\u001b[0;34m\u001b[0m\u001b[0m\n\u001b[1;32m    179\u001b[0m                                         \u001b[0msuccess\u001b[0m\u001b[0;34m,\u001b[0m \u001b[0mmsg\u001b[0m \u001b[0;34m=\u001b[0m \u001b[0;34m(\u001b[0m\u001b[0;32mTrue\u001b[0m\u001b[0;34m,\u001b[0m \u001b[0;32mNone\u001b[0m\u001b[0;34m)\u001b[0m\u001b[0;34m\u001b[0m\u001b[0;34m\u001b[0m\u001b[0m\n",
      "\u001b[0;32m/opt/anaconda3/envs/DA_env/lib/python3.8/site-packages/snscrape/modules/twitter.py\u001b[0m in \u001b[0;36m_check_api_response\u001b[0;34m(self, r)\u001b[0m\n\u001b[1;32m    208\u001b[0m                 \u001b[0;32mif\u001b[0m \u001b[0mr\u001b[0m\u001b[0;34m.\u001b[0m\u001b[0mstatus_code\u001b[0m \u001b[0;32min\u001b[0m \u001b[0;34m(\u001b[0m\u001b[0;36m403\u001b[0m\u001b[0;34m,\u001b[0m \u001b[0;36m429\u001b[0m\u001b[0;34m)\u001b[0m\u001b[0;34m:\u001b[0m\u001b[0;34m\u001b[0m\u001b[0;34m\u001b[0m\u001b[0m\n\u001b[1;32m    209\u001b[0m                         \u001b[0mself\u001b[0m\u001b[0;34m.\u001b[0m\u001b[0m_unset_guest_token\u001b[0m\u001b[0;34m(\u001b[0m\u001b[0;34m)\u001b[0m\u001b[0;34m\u001b[0m\u001b[0;34m\u001b[0m\u001b[0m\n\u001b[0;32m--> 210\u001b[0;31m                         \u001b[0mself\u001b[0m\u001b[0;34m.\u001b[0m\u001b[0m_ensure_guest_token\u001b[0m\u001b[0;34m(\u001b[0m\u001b[0;34m)\u001b[0m\u001b[0;34m\u001b[0m\u001b[0;34m\u001b[0m\u001b[0m\n\u001b[0m\u001b[1;32m    211\u001b[0m                         \u001b[0;32mreturn\u001b[0m \u001b[0;32mFalse\u001b[0m\u001b[0;34m,\u001b[0m \u001b[0;34mf'blocked ({r.status_code})'\u001b[0m\u001b[0;34m\u001b[0m\u001b[0;34m\u001b[0m\u001b[0m\n\u001b[1;32m    212\u001b[0m                 \u001b[0;32mif\u001b[0m \u001b[0mr\u001b[0m\u001b[0;34m.\u001b[0m\u001b[0mheaders\u001b[0m\u001b[0;34m.\u001b[0m\u001b[0mget\u001b[0m\u001b[0;34m(\u001b[0m\u001b[0;34m'content-type'\u001b[0m\u001b[0;34m,\u001b[0m \u001b[0;34m''\u001b[0m\u001b[0;34m)\u001b[0m\u001b[0;34m.\u001b[0m\u001b[0mreplace\u001b[0m\u001b[0;34m(\u001b[0m\u001b[0;34m' '\u001b[0m\u001b[0;34m,\u001b[0m \u001b[0;34m''\u001b[0m\u001b[0;34m)\u001b[0m \u001b[0;34m!=\u001b[0m \u001b[0;34m'application/json;charset=utf-8'\u001b[0m\u001b[0;34m:\u001b[0m\u001b[0;34m\u001b[0m\u001b[0;34m\u001b[0m\u001b[0m\n",
      "\u001b[0;32m/opt/anaconda3/envs/DA_env/lib/python3.8/site-packages/snscrape/modules/twitter.py\u001b[0m in \u001b[0;36m_ensure_guest_token\u001b[0;34m(self, url)\u001b[0m\n\u001b[1;32m    198\u001b[0m                         \u001b[0mself\u001b[0m\u001b[0;34m.\u001b[0m\u001b[0m_apiHeaders\u001b[0m\u001b[0;34m[\u001b[0m\u001b[0;34m'x-guest-token'\u001b[0m\u001b[0;34m]\u001b[0m \u001b[0;34m=\u001b[0m \u001b[0mself\u001b[0m\u001b[0;34m.\u001b[0m\u001b[0m_guestToken\u001b[0m\u001b[0;34m\u001b[0m\u001b[0;34m\u001b[0m\u001b[0m\n\u001b[1;32m    199\u001b[0m                         \u001b[0;32mreturn\u001b[0m\u001b[0;34m\u001b[0m\u001b[0;34m\u001b[0m\u001b[0m\n\u001b[0;32m--> 200\u001b[0;31m                 \u001b[0;32mraise\u001b[0m \u001b[0msnscrape\u001b[0m\u001b[0;34m.\u001b[0m\u001b[0mbase\u001b[0m\u001b[0;34m.\u001b[0m\u001b[0mScraperException\u001b[0m\u001b[0;34m(\u001b[0m\u001b[0;34m'Unable to find guest token'\u001b[0m\u001b[0;34m)\u001b[0m\u001b[0;34m\u001b[0m\u001b[0;34m\u001b[0m\u001b[0m\n\u001b[0m\u001b[1;32m    201\u001b[0m \u001b[0;34m\u001b[0m\u001b[0m\n\u001b[1;32m    202\u001b[0m         \u001b[0;32mdef\u001b[0m \u001b[0m_unset_guest_token\u001b[0m\u001b[0;34m(\u001b[0m\u001b[0mself\u001b[0m\u001b[0;34m)\u001b[0m\u001b[0;34m:\u001b[0m\u001b[0;34m\u001b[0m\u001b[0;34m\u001b[0m\u001b[0m\n",
      "\u001b[0;31mScraperException\u001b[0m: Unable to find guest token"
     ]
    }
   ],
   "source": [
    "#building a function to scrap twitter during specific time period and with #covid or #covid-19 as keywords and only english tweets\n",
    "%time\n",
    "\n",
    "covid_tweets = []\n",
    "for i, tweet in tqdm(enumerate(sntwitter.TwitterSearchScraper('(#covid OR #covid-19) lang:en since:2021-01-01 until:2021-12-09').get_items())):\n",
    "    try:\n",
    "        covid_tweets.append([tweet.date,\n",
    "                          tweet.id,\n",
    "                          tweet.content,\n",
    "                          tweet.replyCount,\n",
    "                          tweet.retweetCount,\n",
    "                          tweet.likeCount,\n",
    "                          tweet.coordinates])\n",
    "    except ScraperException:\n",
    "        print('Scraper Exception... continuing')\n",
    "        continue"
   ]
  },
  {
   "cell_type": "code",
   "execution_count": 9,
   "id": "c0eb2909",
   "metadata": {},
   "outputs": [],
   "source": [
    "# Creating a dataframe from the tweets list above\n",
    "covid2_tweets_df = pd.DataFrame(covid_tweets, columns=['date', 'tweet_id', 'text', 'replies', 'retweets', 'likes', 'place'])"
   ]
  },
  {
   "cell_type": "code",
   "execution_count": 10,
   "id": "ced79e43",
   "metadata": {},
   "outputs": [],
   "source": [
    "#storing dataframe of scraped tweets in a csv file \n",
    "covid2_tweets_df.to_csv(\"covid_2nd.csv\", index=False)"
   ]
  },
  {
   "cell_type": "code",
   "execution_count": 11,
   "id": "b0376730",
   "metadata": {},
   "outputs": [
    {
     "data": {
      "text/html": [
       "<div>\n",
       "<style scoped>\n",
       "    .dataframe tbody tr th:only-of-type {\n",
       "        vertical-align: middle;\n",
       "    }\n",
       "\n",
       "    .dataframe tbody tr th {\n",
       "        vertical-align: top;\n",
       "    }\n",
       "\n",
       "    .dataframe thead th {\n",
       "        text-align: right;\n",
       "    }\n",
       "</style>\n",
       "<table border=\"1\" class=\"dataframe\">\n",
       "  <thead>\n",
       "    <tr style=\"text-align: right;\">\n",
       "      <th></th>\n",
       "      <th>date</th>\n",
       "      <th>tweet_id</th>\n",
       "      <th>text</th>\n",
       "      <th>replies</th>\n",
       "      <th>retweets</th>\n",
       "      <th>likes</th>\n",
       "      <th>place</th>\n",
       "    </tr>\n",
       "  </thead>\n",
       "  <tbody>\n",
       "    <tr>\n",
       "      <th>0</th>\n",
       "      <td>2021-12-08 23:59:56+00:00</td>\n",
       "      <td>1468732107719651329</td>\n",
       "      <td>@LeftEye16 Kia ora, a map of locations of inte...</td>\n",
       "      <td>1</td>\n",
       "      <td>0</td>\n",
       "      <td>0</td>\n",
       "      <td>None</td>\n",
       "    </tr>\n",
       "    <tr>\n",
       "      <th>1</th>\n",
       "      <td>2021-12-08 23:59:53+00:00</td>\n",
       "      <td>1468732093014310916</td>\n",
       "      <td>NOPE‼️ You cannot count the jobs that were los...</td>\n",
       "      <td>0</td>\n",
       "      <td>0</td>\n",
       "      <td>0</td>\n",
       "      <td>None</td>\n",
       "    </tr>\n",
       "    <tr>\n",
       "      <th>2</th>\n",
       "      <td>2021-12-08 23:59:50+00:00</td>\n",
       "      <td>1468732082172178435</td>\n",
       "      <td>An increasing number of workplaces across Aust...</td>\n",
       "      <td>0</td>\n",
       "      <td>0</td>\n",
       "      <td>0</td>\n",
       "      <td>None</td>\n",
       "    </tr>\n",
       "    <tr>\n",
       "      <th>3</th>\n",
       "      <td>2021-12-08 23:59:49+00:00</td>\n",
       "      <td>1468732075343851523</td>\n",
       "      <td>Final lecture of my course on Analytical Found...</td>\n",
       "      <td>0</td>\n",
       "      <td>0</td>\n",
       "      <td>12</td>\n",
       "      <td>None</td>\n",
       "    </tr>\n",
       "    <tr>\n",
       "      <th>4</th>\n",
       "      <td>2021-12-08 23:59:43+00:00</td>\n",
       "      <td>1468732051708805124</td>\n",
       "      <td>@recneps51 What's a self respecting virus doin...</td>\n",
       "      <td>0</td>\n",
       "      <td>0</td>\n",
       "      <td>1</td>\n",
       "      <td>None</td>\n",
       "    </tr>\n",
       "    <tr>\n",
       "      <th>...</th>\n",
       "      <td>...</td>\n",
       "      <td>...</td>\n",
       "      <td>...</td>\n",
       "      <td>...</td>\n",
       "      <td>...</td>\n",
       "      <td>...</td>\n",
       "      <td>...</td>\n",
       "    </tr>\n",
       "    <tr>\n",
       "      <th>598298</th>\n",
       "      <td>2021-11-26 00:51:51+00:00</td>\n",
       "      <td>1464034130878894106</td>\n",
       "      <td>COVID-19: Saudi Arabia to lift entry ban from ...</td>\n",
       "      <td>1</td>\n",
       "      <td>1</td>\n",
       "      <td>21</td>\n",
       "      <td>None</td>\n",
       "    </tr>\n",
       "    <tr>\n",
       "      <th>598299</th>\n",
       "      <td>2021-11-26 00:51:50+00:00</td>\n",
       "      <td>1464034125342515206</td>\n",
       "      <td>REPORT: Get Ready For Hysteria Over The New #B...</td>\n",
       "      <td>14</td>\n",
       "      <td>30</td>\n",
       "      <td>42</td>\n",
       "      <td>None</td>\n",
       "    </tr>\n",
       "    <tr>\n",
       "      <th>598300</th>\n",
       "      <td>2021-11-26 00:51:48+00:00</td>\n",
       "      <td>1464034117964779520</td>\n",
       "      <td>@leanneelford @JeanneGirvan @Cath_Tyldesley Yo...</td>\n",
       "      <td>2</td>\n",
       "      <td>0</td>\n",
       "      <td>1</td>\n",
       "      <td>None</td>\n",
       "    </tr>\n",
       "    <tr>\n",
       "      <th>598301</th>\n",
       "      <td>2021-11-26 00:51:40+00:00</td>\n",
       "      <td>1464034084808806400</td>\n",
       "      <td>@elemare @Dai_Watson @ChanceTyColeman I agree ...</td>\n",
       "      <td>1</td>\n",
       "      <td>0</td>\n",
       "      <td>1</td>\n",
       "      <td>None</td>\n",
       "    </tr>\n",
       "    <tr>\n",
       "      <th>598302</th>\n",
       "      <td>2021-11-26 00:51:32+00:00</td>\n",
       "      <td>1464034047559041024</td>\n",
       "      <td>Our COVID-19 vaccination hub at the @MCEC will...</td>\n",
       "      <td>4</td>\n",
       "      <td>7</td>\n",
       "      <td>30</td>\n",
       "      <td>None</td>\n",
       "    </tr>\n",
       "  </tbody>\n",
       "</table>\n",
       "<p>598303 rows × 7 columns</p>\n",
       "</div>"
      ],
      "text/plain": [
       "                            date             tweet_id  \\\n",
       "0      2021-12-08 23:59:56+00:00  1468732107719651329   \n",
       "1      2021-12-08 23:59:53+00:00  1468732093014310916   \n",
       "2      2021-12-08 23:59:50+00:00  1468732082172178435   \n",
       "3      2021-12-08 23:59:49+00:00  1468732075343851523   \n",
       "4      2021-12-08 23:59:43+00:00  1468732051708805124   \n",
       "...                          ...                  ...   \n",
       "598298 2021-11-26 00:51:51+00:00  1464034130878894106   \n",
       "598299 2021-11-26 00:51:50+00:00  1464034125342515206   \n",
       "598300 2021-11-26 00:51:48+00:00  1464034117964779520   \n",
       "598301 2021-11-26 00:51:40+00:00  1464034084808806400   \n",
       "598302 2021-11-26 00:51:32+00:00  1464034047559041024   \n",
       "\n",
       "                                                     text  replies  retweets  \\\n",
       "0       @LeftEye16 Kia ora, a map of locations of inte...        1         0   \n",
       "1       NOPE‼️ You cannot count the jobs that were los...        0         0   \n",
       "2       An increasing number of workplaces across Aust...        0         0   \n",
       "3       Final lecture of my course on Analytical Found...        0         0   \n",
       "4       @recneps51 What's a self respecting virus doin...        0         0   \n",
       "...                                                   ...      ...       ...   \n",
       "598298  COVID-19: Saudi Arabia to lift entry ban from ...        1         1   \n",
       "598299  REPORT: Get Ready For Hysteria Over The New #B...       14        30   \n",
       "598300  @leanneelford @JeanneGirvan @Cath_Tyldesley Yo...        2         0   \n",
       "598301  @elemare @Dai_Watson @ChanceTyColeman I agree ...        1         0   \n",
       "598302  Our COVID-19 vaccination hub at the @MCEC will...        4         7   \n",
       "\n",
       "        likes place  \n",
       "0           0  None  \n",
       "1           0  None  \n",
       "2           0  None  \n",
       "3          12  None  \n",
       "4           1  None  \n",
       "...       ...   ...  \n",
       "598298     21  None  \n",
       "598299     42  None  \n",
       "598300      1  None  \n",
       "598301      1  None  \n",
       "598302     30  None  \n",
       "\n",
       "[598303 rows x 7 columns]"
      ]
     },
     "execution_count": 11,
     "metadata": {},
     "output_type": "execute_result"
    }
   ],
   "source": [
    "covid2_tweets_df"
   ]
  },
  {
   "cell_type": "markdown",
   "id": "ad5b80a0",
   "metadata": {},
   "source": [
    "# Text Pre-processing\n"
   ]
  },
  {
   "cell_type": "markdown",
   "id": "1d58ef92",
   "metadata": {},
   "source": [
    "## Filtering non english tweets"
   ]
  },
  {
   "cell_type": "code",
   "execution_count": null,
   "id": "226fcd10",
   "metadata": {},
   "outputs": [],
   "source": []
  },
  {
   "cell_type": "markdown",
   "id": "c8ce98ee",
   "metadata": {},
   "source": [
    "## Dropping duplicates"
   ]
  },
  {
   "cell_type": "code",
   "execution_count": null,
   "id": "bbee2ab2",
   "metadata": {},
   "outputs": [],
   "source": [
    "#checking for the number of duplicate tweets\n",
    "def count_duplicated_tweets(df):\n",
    "    return cc_tweets_df.duplicated(subset='text').sum()\n",
    "\n",
    "#dropping duplicate tweets inplace \n",
    "def duplicate_tweets_drop(df):\n",
    "    df_duplicates_free=df.drop_duplicates(subset= ['text'], inplace=True)\n",
    "    return df_duplicates_free"
   ]
  },
  {
   "cell_type": "markdown",
   "id": "13c8e38e",
   "metadata": {},
   "source": [
    "## Dealing with missing values"
   ]
  },
  {
   "cell_type": "code",
   "execution_count": null,
   "id": "eaf98c77",
   "metadata": {},
   "outputs": [],
   "source": [
    "#checking the number of missing values \n",
    "def missing_values(df):\n",
    "    null_count=df.isna().sum()\n",
    "    return null_count"
   ]
  },
  {
   "cell_type": "code",
   "execution_count": null,
   "id": "46da1020",
   "metadata": {},
   "outputs": [],
   "source": [
    "#dropping Nan values- excluding place column\n",
    "def na_drop(df):\n",
    "    df_na_free= df.dropna(subset=['date', 'tweet_id', 'text', 'replies', 'retweets', 'likes'], inplace=True)\n",
    "    return df_na_free"
   ]
  },
  {
   "cell_type": "markdown",
   "id": "879284a6",
   "metadata": {},
   "source": [
    "## Removing links & Mentions (URLs & @s)"
   ]
  },
  {
   "cell_type": "code",
   "execution_count": null,
   "id": "ff69e1cc",
   "metadata": {},
   "outputs": [],
   "source": [
    "#removing URL links in tweets\n",
    "def remove_usernames_links(tweet):\n",
    "    # Remove any hyperlinks that may be in the text starting with http\n",
    "    tweet = re.sub('@[^\\s]+','',str(tweet))\n",
    "    tweet = re.sub('http[^\\s]+','',str(tweet))\n",
    "    return tweet"
   ]
  },
  {
   "cell_type": "markdown",
   "id": "ce642630",
   "metadata": {},
   "source": [
    "## Removing stopwords"
   ]
  },
  {
   "cell_type": "code",
   "execution_count": null,
   "id": "a2f66ef2",
   "metadata": {},
   "outputs": [],
   "source": [
    "#downloading english stopwords\n",
    "stop_words=stopwords.words('english')\n",
    "#function for removing stopwords from tweets\n",
    "def remove_stopwords(df):\n",
    "    df['text'] = df['text'].apply(lambda x: ' '.join([item for item in x.split() if item not in stop_words]))\n",
    "    return(df)"
   ]
  },
  {
   "cell_type": "code",
   "execution_count": null,
   "id": "1fea6b86",
   "metadata": {},
   "outputs": [],
   "source": [
    "# ploting using worldcloud function\n",
    "def plot_wordcloud(wordcloud, language):\n",
    "    plt.figure(figsize=(12, 10))\n",
    "    plt.imshow(wordcloud, interpolation = 'bilinear')\n",
    "    plt.axis(\"off\")\n",
    "    plt.title(language + ' tweets\\n', fontsize=18, fontweight='bold')\n",
    "    plt.show()"
   ]
  },
  {
   "cell_type": "code",
   "execution_count": null,
   "id": "5ce721a7",
   "metadata": {},
   "outputs": [],
   "source": [
    "# wouldcloud for english tweets \n",
    "wordcloud = WordCloud(max_font_size=None, max_words=200, background_color=\"lightgrey\", \n",
    "                      width=3000, height=2000,\n",
    "                      stopwords=stopwords.words('english')).generate(str(df_eng.comments.values))\n",
    "\n",
    "plot_wordcloud(wordcloud, 'English')"
   ]
  },
  {
   "cell_type": "markdown",
   "id": "50bc3573",
   "metadata": {},
   "source": [
    "# Identifying sentiment using VADAR package\n",
    "VADER belongs to a type of sentiment analysis that is based on lexicons of sentiment-related words.In this approach, each of the words in the lexicon is rated as to whether it is positive or negative, and in many cases, how positive or negative (more positive words have higher positive ratings and more negative words have lower negative ratings).\n",
    "\n",
    "VADER produces four sentiment metrics from these word ratings, which you can see below. The first three, **positive, neutral and negative,** represent the proportion of the text that falls into those categories. The final metric, the **compound** score, is the sum of all of the lexicon ratings (which have been standardised to range between -1 and 1)\n",
    "\n",
    "VADER particularly stands out for analysing social media text because it can handle some social-media specific terms in addition to word context (capitalisation, exclamation marks, sentiment terms such as really, extremely, kinda). Lastly, it also handles changes in a sentence’s sentiment intensity when it contains ‘but’, whereby the sentiment afterwards is weighted more heavily than that before. "
   ]
  },
  {
   "cell_type": "code",
   "execution_count": null,
   "id": "c9faebf2",
   "metadata": {},
   "outputs": [],
   "source": [
    "analyser = SentimentIntensityAnalyzer()\n",
    "\n",
    "#using polarity_score ()to get sentiment metrics \n",
    "def get_sentiment_scores(text):\n",
    "    snt = analyzer.polarity_scores(text)\n",
    "    print(\"{:-<40} {}\".format(text, str(snt)))"
   ]
  },
  {
   "cell_type": "code",
   "execution_count": null,
   "id": "3535f2b8",
   "metadata": {},
   "outputs": [],
   "source": []
  },
  {
   "cell_type": "code",
   "execution_count": null,
   "id": "0f9020d4",
   "metadata": {},
   "outputs": [],
   "source": []
  },
  {
   "cell_type": "code",
   "execution_count": null,
   "id": "0a08db77",
   "metadata": {},
   "outputs": [],
   "source": []
  },
  {
   "cell_type": "code",
   "execution_count": null,
   "id": "ee8a31a2",
   "metadata": {},
   "outputs": [],
   "source": []
  },
  {
   "cell_type": "markdown",
   "id": "6669d067",
   "metadata": {},
   "source": [
    "# Data Visualisation\n",
    "## Using wordcloud"
   ]
  },
  {
   "cell_type": "code",
   "execution_count": null,
   "id": "09247203",
   "metadata": {},
   "outputs": [],
   "source": [
    "#defining plotting function\n",
    "def plot_wordcloud(wordcloud, title):\n",
    "    plt.figure(figsize=(12, 10))\n",
    "    plt.imshow(wordcloud, interpolation = 'bilinear')\n",
    "    plt.axis(\"off\")\n",
    "    plt.title(title + ' Tweets\\n', fontsize=18, fontweight='bold')\n",
    "    plt.show()"
   ]
  },
  {
   "cell_type": "code",
   "execution_count": null,
   "id": "e3dfeb46",
   "metadata": {},
   "outputs": [],
   "source": [
    "#using wordcould function to visualise climate change tweets \n",
    "text = (cc_tweets_df['text'].str.lower()).values\n",
    "wordcloud = WordCloud(max_font_size=None,\n",
    "                      max_words=200,\n",
    "                      background_color=\"lightgrey\", \n",
    "                      width=4000,\n",
    "                      height=2000,\n",
    "                      stopwords=stopwords.words('english')).generate(str(text))\n",
    "\n",
    "plot_wordcloud(wordcloud, 'Climate Change')"
   ]
  },
  {
   "cell_type": "code",
   "execution_count": null,
   "id": "aeb69640",
   "metadata": {},
   "outputs": [],
   "source": [
    "#using wordcould function to visualise COVID tweets \n",
    "text = (covid_tweets_df['text'].str.lower()).values\n",
    "wordcloud = WordCloud(max_font_size=None,\n",
    "                      max_words=200,\n",
    "                      background_color=\"black\", \n",
    "                      width=4000,\n",
    "                      height=2000,\n",
    "                      stopwords=stopwords.words('english')).generate(str(text))\n",
    "\n",
    "plot_wordcloud(wordcloud, 'COVID')"
   ]
  },
  {
   "cell_type": "code",
   "execution_count": null,
   "id": "f50a0309",
   "metadata": {},
   "outputs": [],
   "source": []
  },
  {
   "cell_type": "code",
   "execution_count": null,
   "id": "e77aca23",
   "metadata": {},
   "outputs": [],
   "source": []
  },
  {
   "cell_type": "code",
   "execution_count": null,
   "id": "51d73f6b",
   "metadata": {},
   "outputs": [],
   "source": []
  },
  {
   "cell_type": "code",
   "execution_count": null,
   "id": "5a457d95",
   "metadata": {},
   "outputs": [],
   "source": [
    "#practicing with flo "
   ]
  },
  {
   "cell_type": "code",
   "execution_count": 275,
   "id": "c7ea5d88",
   "metadata": {},
   "outputs": [
    {
     "data": {
      "text/plain": [
       "True"
      ]
     },
     "execution_count": 275,
     "metadata": {},
     "output_type": "execute_result"
    }
   ],
   "source": [
    "tweets_df.Place.iloc[0]==tweets_df.Place.iloc[0]"
   ]
  },
  {
   "cell_type": "code",
   "execution_count": null,
   "id": "f2bf9b38",
   "metadata": {},
   "outputs": [],
   "source": [
    "def get_long_lat(row):\n",
    "    if row.coordinates is None:\n",
    "        return row.coordinates\n",
    "    return row.coordinates.longitude, row.coordinates.latitude"
   ]
  },
  {
   "cell_type": "code",
   "execution_count": null,
   "id": "5a87fc6c",
   "metadata": {},
   "outputs": [],
   "source": [
    "tweets_df.apply(lambda x: get_long_lat(x(\"Place\")), axis=1, result_type=\"expand\")"
   ]
  },
  {
   "cell_type": "code",
   "execution_count": null,
   "id": "7f358bef",
   "metadata": {},
   "outputs": [],
   "source": [
    "tweets_df[\"long\"]=np.where(tweets_df.Place.apply (lambda x: x  is not None), tweets_df.Place.apply(lambda x : x.longitude),tweets_df.Place)"
   ]
  },
  {
   "cell_type": "code",
   "execution_count": null,
   "id": "524d71f0",
   "metadata": {},
   "outputs": [],
   "source": [
    "if i>max_tweets:\n",
    "        break"
   ]
  }
 ],
 "metadata": {
  "kernelspec": {
   "display_name": "Python 3.8.12 64-bit ('DA_env': conda)",
   "language": "python",
   "name": "python3812jvsc74a57bd02c26e788c1712cbd4db7468c082724265a23eff5316bec8f150ee61cdd817318"
  },
  "language_info": {
   "codemirror_mode": {
    "name": "ipython",
    "version": 3
   },
   "file_extension": ".py",
   "mimetype": "text/x-python",
   "name": "python",
   "nbconvert_exporter": "python",
   "pygments_lexer": "ipython3",
   "version": "3.8.12"
  },
  "toc": {
   "base_numbering": 1,
   "nav_menu": {},
   "number_sections": true,
   "sideBar": true,
   "skip_h1_title": false,
   "title_cell": "Table of Contents",
   "title_sidebar": "Contents",
   "toc_cell": false,
   "toc_position": {},
   "toc_section_display": true,
   "toc_window_display": false
  }
 },
 "nbformat": 4,
 "nbformat_minor": 5
}
